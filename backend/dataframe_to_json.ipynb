{
 "cells": [
  {
   "metadata": {},
   "cell_type": "markdown",
   "source": [
    "### Pandas Dataframe to JSON\n",
    "Here, we test and demonstrate how to get data from the back-end to the front via json.\n",
    "\n",
    "First we create a dataframe of fake data for three stations and three variables. Some variables are missing for some stations. We want to see how we handle missing values and varying column/variable names. We will use these three stations, eventually switching for real data:\n",
    "\n",
    "| Location   | Variable 1  | Variable 2 | Variable 3   |\n",
    "|------------|-------------|------------|--------------|\n",
    "| Roosevelt  | PM2.5       | Ozone      | Temperature  |\n",
    "| Vernal     | Ozone       | NOx        | PM2.5        |\n",
    "| Horsepool  | NO          | NOx        | Temperature  |\n",
    "\n"
   ],
   "id": "9a7063c01b916c3"
  },
  {
   "cell_type": "code",
   "id": "initial_id",
   "metadata": {
    "collapsed": true,
    "ExecuteTime": {
     "end_time": "2024-09-21T10:11:33.217749Z",
     "start_time": "2024-09-21T10:11:32.848568Z"
    }
   },
   "source": [
    "\n",
    "\n",
    "import os \n",
    "\n",
    "import pandas as pd \n",
    "import numpy as np \n",
    "\n"
   ],
   "outputs": [],
   "execution_count": 1
  },
  {
   "metadata": {
    "ExecuteTime": {
     "end_time": "2024-09-21T10:11:33.244485Z",
     "start_time": "2024-09-21T10:11:33.234109Z"
    }
   },
   "cell_type": "code",
   "source": [
    "# Create a dataframe that holds the test data for the three stations of interest. \n",
    "# The columns are the variables of interest and each station only has a max \n",
    "# of three variables, hence some columns are full of NaN values for some stations.\n",
    "\n",
    "# Example numbers \n",
    "# NO 3 ppb\n",
    "# NOx 4 ppb\n",
    "# Temp 21 C \n",
    "# Wind Speed 2 m/s\n",
    "# PM2.5 4 ug/m3\n",
    "# Ozone 40 ppb\n",
    "\n",
    "\n",
    "df_dict = {\n",
    "    \"Roosevelt\": {\n",
    "        \"PM2.5\": 5.0,\n",
    "        \"Ozone\": 46.0,\n",
    "        \"Temperature\": 16.5,\n",
    "            },\n",
    "    \"Vernal\": {\n",
    "        \"Ozone\": 42.0,\n",
    "        \"NOx\": 4.3,\n",
    "        \"PM2.5\": 2.5,\n",
    "            },\n",
    "    \"Horsepool\": {\n",
    "        \"NO\": 3.0,\n",
    "        \"NOx\": 4.0,\n",
    "        \"Temperature\": 18.0,\n",
    "            }\n",
    "}\n",
    "\n",
    "df = pd.DataFrame(df_dict)\n",
    "df"
   ],
   "id": "208836cf2d4e9532",
   "outputs": [
    {
     "data": {
      "text/plain": [
       "             Roosevelt  Vernal  Horsepool\n",
       "PM2.5              5.0     2.5        NaN\n",
       "Ozone             46.0    42.0        NaN\n",
       "Temperature       16.5     NaN       18.0\n",
       "NOx                NaN     4.3        4.0\n",
       "NO                 NaN     NaN        3.0"
      ],
      "text/html": [
       "<div>\n",
       "<style scoped>\n",
       "    .dataframe tbody tr th:only-of-type {\n",
       "        vertical-align: middle;\n",
       "    }\n",
       "\n",
       "    .dataframe tbody tr th {\n",
       "        vertical-align: top;\n",
       "    }\n",
       "\n",
       "    .dataframe thead th {\n",
       "        text-align: right;\n",
       "    }\n",
       "</style>\n",
       "<table border=\"1\" class=\"dataframe\">\n",
       "  <thead>\n",
       "    <tr style=\"text-align: right;\">\n",
       "      <th></th>\n",
       "      <th>Roosevelt</th>\n",
       "      <th>Vernal</th>\n",
       "      <th>Horsepool</th>\n",
       "    </tr>\n",
       "  </thead>\n",
       "  <tbody>\n",
       "    <tr>\n",
       "      <th>PM2.5</th>\n",
       "      <td>5.0</td>\n",
       "      <td>2.5</td>\n",
       "      <td>NaN</td>\n",
       "    </tr>\n",
       "    <tr>\n",
       "      <th>Ozone</th>\n",
       "      <td>46.0</td>\n",
       "      <td>42.0</td>\n",
       "      <td>NaN</td>\n",
       "    </tr>\n",
       "    <tr>\n",
       "      <th>Temperature</th>\n",
       "      <td>16.5</td>\n",
       "      <td>NaN</td>\n",
       "      <td>18.0</td>\n",
       "    </tr>\n",
       "    <tr>\n",
       "      <th>NOx</th>\n",
       "      <td>NaN</td>\n",
       "      <td>4.3</td>\n",
       "      <td>4.0</td>\n",
       "    </tr>\n",
       "    <tr>\n",
       "      <th>NO</th>\n",
       "      <td>NaN</td>\n",
       "      <td>NaN</td>\n",
       "      <td>3.0</td>\n",
       "    </tr>\n",
       "  </tbody>\n",
       "</table>\n",
       "</div>"
      ]
     },
     "execution_count": 2,
     "metadata": {},
     "output_type": "execute_result"
    }
   ],
   "execution_count": 2
  },
  {
   "metadata": {
    "ExecuteTime": {
     "end_time": "2024-09-21T10:11:33.369678Z",
     "start_time": "2024-09-21T10:11:33.367663Z"
    }
   },
   "cell_type": "code",
   "source": [
    "# Convert the dataframe to a JSON string\n",
    "json_str = df.to_json(orient=\"index\")\n",
    "\n",
    "# Print the JSON string to preview it\n",
    "print(json_str)"
   ],
   "id": "d9b3da998b948b7d",
   "outputs": [
    {
     "name": "stdout",
     "output_type": "stream",
     "text": [
      "{\"PM2.5\":{\"Roosevelt\":5.0,\"Vernal\":2.5,\"Horsepool\":null},\"Ozone\":{\"Roosevelt\":46.0,\"Vernal\":42.0,\"Horsepool\":null},\"Temperature\":{\"Roosevelt\":16.5,\"Vernal\":null,\"Horsepool\":18.0},\"NOx\":{\"Roosevelt\":null,\"Vernal\":4.3,\"Horsepool\":4.0},\"NO\":{\"Roosevelt\":null,\"Vernal\":null,\"Horsepool\":3.0}}\n"
     ]
    }
   ],
   "execution_count": 3
  },
  {
   "metadata": {
    "ExecuteTime": {
     "end_time": "2024-09-21T10:11:33.406831Z",
     "start_time": "2024-09-21T10:11:33.404348Z"
    }
   },
   "cell_type": "code",
   "source": [
    "# Save the JSON string to a file in the test_data directory based at the root \n",
    "# This notebook is in backend, so parallel (up and down) to test_data directory\n",
    "fpath = os.path.join(\"..\", \"test_data\", \"test_liveobs.json\")\n",
    "with open(fpath, \"w\") as f:\n",
    "    f.write(json_str)"
   ],
   "id": "52edb595769a64e",
   "outputs": [],
   "execution_count": 4
  },
  {
   "metadata": {
    "ExecuteTime": {
     "end_time": "2024-09-21T10:11:33.438763Z",
     "start_time": "2024-09-21T10:11:33.430841Z"
    }
   },
   "cell_type": "code",
   "source": [
    "# Generate some test/fake time series data\n",
    "np.random.seed(0)\n",
    "n = 48 * 2\n",
    "time = pd.date_range(start=\"2021-01-01\", periods=n, freq=\"30min\")\n",
    "wind_speed = 2.3 * np.sin(2 * np.pi * time.hour / 24) + np.random.normal(0, 0.5, n)\n",
    "\n",
    "# Ensure wind_speed is a numpy array\n",
    "wind_speed = np.array(wind_speed)\n",
    "\n",
    "# Anything less than 0.25 m/s is \"stall speed\" for the wind sensor\n",
    "# Anything negative is obviously not possible\n",
    "# Both require wind speed to be set to 0\n",
    "wind_speed[wind_speed < 0.25] = 0\n",
    "\n",
    "# Convert the numpy array to a pandas Series\n",
    "wind_speed_series = pd.Series(wind_speed, index=time)\n",
    "\n",
    "# Create a dataframe, with time as index, value of wind speed as value in that row,\n",
    "# and the column name as \"Wind Speed\"\n",
    "df_wind = pd.DataFrame(wind_speed_series, columns=[\"Wind Speed\"])\n",
    "df_wind"
   ],
   "id": "4051a7bf9725577d",
   "outputs": [
    {
     "data": {
      "text/plain": [
       "                     Wind Speed\n",
       "2021-01-01 00:00:00    0.882026\n",
       "2021-01-01 00:30:00    0.000000\n",
       "2021-01-01 01:00:00    1.084653\n",
       "2021-01-01 01:30:00    1.715730\n",
       "2021-01-01 02:00:00    2.083779\n",
       "...                         ...\n",
       "2021-01-02 21:30:00    0.000000\n",
       "2021-01-02 22:00:00    0.000000\n",
       "2021-01-02 22:30:00    0.000000\n",
       "2021-01-02 23:00:00    0.000000\n",
       "2021-01-02 23:30:00    0.000000\n",
       "\n",
       "[96 rows x 1 columns]"
      ],
      "text/html": [
       "<div>\n",
       "<style scoped>\n",
       "    .dataframe tbody tr th:only-of-type {\n",
       "        vertical-align: middle;\n",
       "    }\n",
       "\n",
       "    .dataframe tbody tr th {\n",
       "        vertical-align: top;\n",
       "    }\n",
       "\n",
       "    .dataframe thead th {\n",
       "        text-align: right;\n",
       "    }\n",
       "</style>\n",
       "<table border=\"1\" class=\"dataframe\">\n",
       "  <thead>\n",
       "    <tr style=\"text-align: right;\">\n",
       "      <th></th>\n",
       "      <th>Wind Speed</th>\n",
       "    </tr>\n",
       "  </thead>\n",
       "  <tbody>\n",
       "    <tr>\n",
       "      <th>2021-01-01 00:00:00</th>\n",
       "      <td>0.882026</td>\n",
       "    </tr>\n",
       "    <tr>\n",
       "      <th>2021-01-01 00:30:00</th>\n",
       "      <td>0.000000</td>\n",
       "    </tr>\n",
       "    <tr>\n",
       "      <th>2021-01-01 01:00:00</th>\n",
       "      <td>1.084653</td>\n",
       "    </tr>\n",
       "    <tr>\n",
       "      <th>2021-01-01 01:30:00</th>\n",
       "      <td>1.715730</td>\n",
       "    </tr>\n",
       "    <tr>\n",
       "      <th>2021-01-01 02:00:00</th>\n",
       "      <td>2.083779</td>\n",
       "    </tr>\n",
       "    <tr>\n",
       "      <th>...</th>\n",
       "      <td>...</td>\n",
       "    </tr>\n",
       "    <tr>\n",
       "      <th>2021-01-02 21:30:00</th>\n",
       "      <td>0.000000</td>\n",
       "    </tr>\n",
       "    <tr>\n",
       "      <th>2021-01-02 22:00:00</th>\n",
       "      <td>0.000000</td>\n",
       "    </tr>\n",
       "    <tr>\n",
       "      <th>2021-01-02 22:30:00</th>\n",
       "      <td>0.000000</td>\n",
       "    </tr>\n",
       "    <tr>\n",
       "      <th>2021-01-02 23:00:00</th>\n",
       "      <td>0.000000</td>\n",
       "    </tr>\n",
       "    <tr>\n",
       "      <th>2021-01-02 23:30:00</th>\n",
       "      <td>0.000000</td>\n",
       "    </tr>\n",
       "  </tbody>\n",
       "</table>\n",
       "<p>96 rows × 1 columns</p>\n",
       "</div>"
      ]
     },
     "execution_count": 5,
     "metadata": {},
     "output_type": "execute_result"
    }
   ],
   "execution_count": 5
  },
  {
   "metadata": {
    "ExecuteTime": {
     "end_time": "2024-09-21T10:11:33.485749Z",
     "start_time": "2024-09-21T10:11:33.479842Z"
    }
   },
   "cell_type": "code",
   "source": [
    "# Write the dataframe to json in one line to define the filepath and another to write the file\n",
    "df_wind.to_json(os.path.join(\"..\", \"test_data\", \"test_wind_ts.json\"), orient=\"index\")"
   ],
   "id": "f160c0b30898034",
   "outputs": [],
   "execution_count": 6
  },
  {
   "metadata": {},
   "cell_type": "markdown",
   "source": [
    "### CLyfar \n",
    "We will get two products from Clyfar:\n",
    "\n",
    "#### Deterministic forecast (\"crisp\") in ppb\n",
    "This is a single value Clyfar issues as a forecast without uncertainty estimates \n",
    "\n",
    "#### Possibility distribution for each ozone category\n",
    "At each time, for each ozone category Clyfar uses (background, moderate, elevated, extreme) and a fifth \"unsure\" category, Clyfar issues a possibility. The same five categories also have a necessity value. We may have other estimates of uncertainty in future."
   ],
   "id": "7618dfb61904c85d"
  },
  {
   "metadata": {
    "ExecuteTime": {
     "end_time": "2024-09-21T10:11:33.513238Z",
     "start_time": "2024-09-21T10:11:33.511219Z"
    }
   },
   "cell_type": "code",
   "source": [
    "# Now some clyfar data with ten columns for the five categories and their possibility and necessity values\n",
    "# The rows will be daily forecasts of ozone for 14 days ahead. \n",
    "\n",
    "# TODO: pause here to finish Clyfar possibility and necessity functions \n",
    "\n"
   ],
   "id": "e7ef2c23a6dd282d",
   "outputs": [],
   "execution_count": 7
  },
  {
   "metadata": {
    "ExecuteTime": {
     "end_time": "2024-09-21T10:11:33.526069Z",
     "start_time": "2024-09-21T10:11:33.524483Z"
    }
   },
   "cell_type": "code",
   "source": "",
   "id": "7d4a5ceb03b9b6de",
   "outputs": [],
   "execution_count": null
  }
 ],
 "metadata": {
  "kernelspec": {
   "display_name": "Python 3",
   "language": "python",
   "name": "python3"
  },
  "language_info": {
   "codemirror_mode": {
    "name": "ipython",
    "version": 2
   },
   "file_extension": ".py",
   "mimetype": "text/x-python",
   "name": "python",
   "nbconvert_exporter": "python",
   "pygments_lexer": "ipython2",
   "version": "2.7.6"
  }
 },
 "nbformat": 4,
 "nbformat_minor": 5
}
